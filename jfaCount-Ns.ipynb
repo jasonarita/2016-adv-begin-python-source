{
 "cells": [
  {
   "cell_type": "code",
   "execution_count": 5,
   "metadata": {
    "collapsed": false
   },
   "outputs": [
    {
     "name": "stdout",
     "output_type": "stream",
     "text": [
      "/Users/jason/Desktop/2016-adv-begin-python\n"
     ]
    }
   ],
   "source": [
    "cd ~/Desktop/2016-adv-begin-python/"
   ]
  },
  {
   "cell_type": "code",
   "execution_count": 6,
   "metadata": {
    "collapsed": false,
    "scrolled": true
   },
   "outputs": [
    {
     "ename": "SyntaxError",
     "evalue": "invalid syntax (<ipython-input-6-d776faea8637>, line 18)",
     "output_type": "error",
     "traceback": [
      "\u001b[0;36m  File \u001b[0;32m\"<ipython-input-6-d776faea8637>\"\u001b[0;36m, line \u001b[0;32m18\u001b[0m\n\u001b[0;31m    ----\u001b[0m\n\u001b[0m        ^\u001b[0m\n\u001b[0;31mSyntaxError\u001b[0m\u001b[0;31m:\u001b[0m invalid syntax\n"
     ]
    }
   ],
   "source": [
    "# Problem 1: Hardcoded input filename\n",
    "# Problem 2: No input checking\n",
    "# Problem 3: No empty-file input checking => crash on division by zero\n",
    "\n",
    "\n",
    "fp          = open('ecoli_ref-100k.fq') \n",
    "count       = 0\n",
    "total_bases = 0\n",
    "total_ns    = 0\n",
    "\n",
    "for line in fp:\n",
    "    if (n % 4) == 1:\n",
    "        seq = line.strip()\n",
    "        total_bases += len(seq)\n",
    "        total_ns += seq.count('N')\n",
    "    count += 1\n",
    "\n",
    "print(count)\n",
    "print(total_bases)\n",
    "print(total_ns)\n",
    "\n",
    "----\n",
    "\n",
    "fp = open('ecoli_ref-100k.fq')\n",
    "\n",
    "count = 0\n",
    "\n",
    "total_bases = 0\n",
    "total_ns = 0\n",
    "for line in fp:\n",
    "    if (count % 4) == 1:\n",
    "        seq = line.strip()\n",
    "        total_bases += len(seq)\n",
    "        total_ns += seq.count('N')\n",
    "    count += 1\n",
    "\n",
    "print(count)\n",
    "print(total_bases)\n",
    "print(total_ns)"
   ]
  },
  {
   "cell_type": "markdown",
   "metadata": {},
   "source": [
    "## Problem 1: Filename hardcoded\n",
    "\n",
    "Change function to handle variable input filenames"
   ]
  },
  {
   "cell_type": "code",
   "execution_count": 7,
   "metadata": {
    "collapsed": false
   },
   "outputs": [
    {
     "name": "stdout",
     "output_type": "stream",
     "text": [
      "Loading sequences from -f\n"
     ]
    },
    {
     "ename": "FileNotFoundError",
     "evalue": "[Errno 2] No such file or directory: '-f'",
     "output_type": "error",
     "traceback": [
      "\u001b[0;31m---------------------------------------------------------------------------\u001b[0m",
      "\u001b[0;31mFileNotFoundError\u001b[0m                         Traceback (most recent call last)",
      "\u001b[0;32m<ipython-input-7-ff9ed5141f9c>\u001b[0m in \u001b[0;36m<module>\u001b[0;34m()\u001b[0m\n\u001b[1;32m      2\u001b[0m \u001b[0;34m\u001b[0m\u001b[0m\n\u001b[1;32m      3\u001b[0m \u001b[0mprint\u001b[0m\u001b[0;34m(\u001b[0m\u001b[0;34m'Loading sequences from'\u001b[0m\u001b[0;34m,\u001b[0m \u001b[0msys\u001b[0m\u001b[0;34m.\u001b[0m\u001b[0margv\u001b[0m\u001b[0;34m[\u001b[0m\u001b[0;36m1\u001b[0m\u001b[0;34m]\u001b[0m\u001b[0;34m)\u001b[0m\u001b[0;34m\u001b[0m\u001b[0m\n\u001b[0;32m----> 4\u001b[0;31m \u001b[0mfp\u001b[0m \u001b[0;34m=\u001b[0m \u001b[0mopen\u001b[0m\u001b[0;34m(\u001b[0m\u001b[0msys\u001b[0m\u001b[0;34m.\u001b[0m\u001b[0margv\u001b[0m\u001b[0;34m[\u001b[0m\u001b[0;36m1\u001b[0m\u001b[0;34m]\u001b[0m\u001b[0;34m)\u001b[0m\u001b[0;34m\u001b[0m\u001b[0m\n\u001b[0m",
      "\u001b[0;31mFileNotFoundError\u001b[0m: [Errno 2] No such file or directory: '-f'"
     ]
    }
   ],
   "source": [
    "import sys\n",
    "\n",
    "print('Loading sequences from', sys.argv[1])\n",
    "fp = open(sys.argv[1])"
   ]
  },
  {
   "cell_type": "markdown",
   "metadata": {},
   "source": [
    "## Problem 2: No input checking\n",
    "\n",
    "Simple refactoring: Splitting the function "
   ]
  },
  {
   "cell_type": "code",
   "execution_count": 8,
   "metadata": {
    "collapsed": true
   },
   "outputs": [],
   "source": [
    "def load_sequences(filename):\n",
    "    list_of_seqs = []\n",
    "    \n",
    "    fp = open(filename)\n",
    "    for line in fp:\n",
    "        if (count % 4) == 1:\n",
    "            seq = line.strip()\n",
    "            list_of_seqs.append(seq)\n",
    "    return list_of_seqs"
   ]
  },
  {
   "cell_type": "markdown",
   "metadata": {},
   "source": [
    "## Problem 3: No empty-file input check\n",
    "\n",
    "When given an empty input-file the function currently crashes on a \"division by zero\" error"
   ]
  },
  {
   "cell_type": "code",
   "execution_count": null,
   "metadata": {
    "collapsed": true
   },
   "outputs": [],
   "source": []
  },
  {
   "cell_type": "markdown",
   "metadata": {},
   "source": [
    "# Note: Doesn't simplify the code, instead it GENERALIZES the code"
   ]
  },
  {
   "cell_type": "code",
   "execution_count": null,
   "metadata": {
    "collapsed": true
   },
   "outputs": [],
   "source": []
  }
 ],
 "metadata": {
  "kernelspec": {
   "display_name": "Python 3",
   "language": "python",
   "name": "python3"
  },
  "language_info": {
   "codemirror_mode": {
    "name": "ipython",
    "version": 3
   },
   "file_extension": ".py",
   "mimetype": "text/x-python",
   "name": "python",
   "nbconvert_exporter": "python",
   "pygments_lexer": "ipython3",
   "version": "3.5.0"
  }
 },
 "nbformat": 4,
 "nbformat_minor": 0
}
