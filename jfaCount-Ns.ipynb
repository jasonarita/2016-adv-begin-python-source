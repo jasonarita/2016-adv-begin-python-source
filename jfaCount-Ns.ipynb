{
 "cells": [
  {
   "cell_type": "code",
   "execution_count": 5,
   "metadata": {
    "collapsed": false
   },
   "outputs": [
    {
     "name": "stdout",
     "output_type": "stream",
     "text": [
      "/Users/jason/Desktop/2016-adv-begin-python\n"
     ]
    }
   ],
   "source": [
    "cd ~/Desktop/2016-adv-begin-python/"
   ]
  },
  {
   "cell_type": "code",
   "execution_count": 6,
   "metadata": {
    "collapsed": false,
    "scrolled": true
   },
   "outputs": [
    {
     "ename": "SyntaxError",
     "evalue": "invalid syntax (<ipython-input-6-d776faea8637>, line 18)",
     "output_type": "error",
     "traceback": [
      "\u001b[0;36m  File \u001b[0;32m\"<ipython-input-6-d776faea8637>\"\u001b[0;36m, line \u001b[0;32m18\u001b[0m\n\u001b[0;31m    ----\u001b[0m\n\u001b[0m        ^\u001b[0m\n\u001b[0;31mSyntaxError\u001b[0m\u001b[0;31m:\u001b[0m invalid syntax\n"
     ]
    }
   ],
   "source": [
    "# Problem 1: Hardcoded input filename\n",
    "# Problem 2: No input checking\n",
    "# Problem 3: No empty-file input checking => crash on division by zero\n",
    "\n",
    "\n",
    "fp          = open('ecoli_ref-100k.fq') \n",
    "count       = 0\n",
    "total_bases = 0\n",
    "total_ns    = 0\n",
    "\n",
    "for line in fp:\n",
    "    if (n % 4) == 1:\n",
    "        seq = line.strip()\n",
    "        total_bases += len(seq)\n",
    "        total_ns += seq.count('N')\n",
    "    count += 1\n",
    "\n",
    "print(count)\n",
    "print(total_bases)\n",
    "print(total_ns)\n",
    "\n",
    "----\n",
    "\n",
    "fp = open('ecoli_ref-100k.fq')\n",
    "\n",
    "count = 0\n",
    "\n",
    "total_bases = 0\n",
    "total_ns = 0\n",
    "for line in fp:\n",
    "    if (count % 4) == 1:\n",
    "        seq = line.strip()\n",
    "        total_bases += len(seq)\n",
    "        total_ns += seq.count('N')\n",
    "    count += 1\n",
    "\n",
    "print(count)\n",
    "print(total_bases)\n",
    "print(total_ns)"
   ]
  },
  {
   "cell_type": "markdown",
   "metadata": {},
   "source": [
    "## Problem 1: Filename hardcoded\n",
    "\n",
    "Change function to handle variable input filenames"
   ]
  },
  {
   "cell_type": "code",
   "execution_count": 7,
   "metadata": {
    "collapsed": true
   },
   "outputs": [
    {
     "name": "stdout",
     "output_type": "stream",
     "text": [
      "Loading sequences from -f\n"
     ]
    },
    {
     "ename": "FileNotFoundError",
     "evalue": "[Errno 2] No such file or directory: '-f'",
     "output_type": "error",
     "traceback": [
      "\u001b[0;31m---------------------------------------------------------------------------\u001b[0m",
      "\u001b[0;31mFileNotFoundError\u001b[0m                         Traceback (most recent call last)",
      "\u001b[0;32m<ipython-input-7-ff9ed5141f9c>\u001b[0m in \u001b[0;36m<module>\u001b[0;34m()\u001b[0m\n\u001b[1;32m      2\u001b[0m \u001b[0;34m\u001b[0m\u001b[0m\n\u001b[1;32m      3\u001b[0m \u001b[0mprint\u001b[0m\u001b[0;34m(\u001b[0m\u001b[0;34m'Loading sequences from'\u001b[0m\u001b[0;34m,\u001b[0m \u001b[0msys\u001b[0m\u001b[0;34m.\u001b[0m\u001b[0margv\u001b[0m\u001b[0;34m[\u001b[0m\u001b[0;36m1\u001b[0m\u001b[0;34m]\u001b[0m\u001b[0;34m)\u001b[0m\u001b[0;34m\u001b[0m\u001b[0m\n\u001b[0;32m----> 4\u001b[0;31m \u001b[0mfp\u001b[0m \u001b[0;34m=\u001b[0m \u001b[0mopen\u001b[0m\u001b[0;34m(\u001b[0m\u001b[0msys\u001b[0m\u001b[0;34m.\u001b[0m\u001b[0margv\u001b[0m\u001b[0;34m[\u001b[0m\u001b[0;36m1\u001b[0m\u001b[0;34m]\u001b[0m\u001b[0;34m)\u001b[0m\u001b[0;34m\u001b[0m\u001b[0m\n\u001b[0m",
      "\u001b[0;31mFileNotFoundError\u001b[0m: [Errno 2] No such file or directory: '-f'"
     ]
    }
   ],
   "source": [
    "import sys\n",
    "\n",
    "print('Loading sequences from', sys.argv[1])\n",
    "fp = open(sys.argv[1])"
   ]
  },
  {
   "cell_type": "markdown",
   "metadata": {},
   "source": [
    "## Problem 2: No input checking\n",
    "\n",
    "Simple refactoring: Splitting the function "
   ]
  },
  {
   "cell_type": "markdown",
   "metadata": {},
   "source": [
    "## Problem 3: No empty-file input check\n",
    "\n",
    "When given an empty input-file the function currently crashes on a \"division by zero\" error"
   ]
  },
  {
   "cell_type": "markdown",
   "metadata": {},
   "source": []
  },
  {
   "cell_type": "markdown",
   "metadata": {},
   "source": [
    "# Encapsulating functions\n",
    "\n",
    "*Note: Doesn't simplify the code, instead it GENERALIZES the code*\n",
    "\n",
    "- `enumerate` is an example of a generator"
   ]
  },
  {
   "cell_type": "code",
   "execution_count": 16,
   "metadata": {
    "collapsed": true
   },
   "outputs": [],
   "source": [
    "import sys"
   ]
  },
  {
   "cell_type": "code",
   "execution_count": 17,
   "metadata": {
    "collapsed": true
   },
   "outputs": [],
   "source": [
    "def load_sequences(filename):\n",
    "    list_of_seqs = []\n",
    "    \n",
    "    fp = open(filename)\n",
    "    for line in fp:\n",
    "        if (count % 4) == 1:\n",
    "            seq = line.strip()\n",
    "            list_of_seqs.append(seq)\n",
    "    return list_of_seqs"
   ]
  },
  {
   "cell_type": "code",
   "execution_count": 18,
   "metadata": {
    "collapsed": false
   },
   "outputs": [],
   "source": [
    "def count_Ns(seq):\n",
    "    n_bases = len(seq)\n",
    "    n_ns    = seq.count('N')\n",
    "    return n_bases, n_ns\n"
   ]
  },
  {
   "cell_type": "code",
   "execution_count": 19,
   "metadata": {
    "collapsed": true
   },
   "outputs": [
    {
     "name": "stdout",
     "output_type": "stream",
     "text": [
      "Loading sequences from -f\n"
     ]
    },
    {
     "ename": "FileNotFoundError",
     "evalue": "[Errno 2] No such file or directory: '-f'",
     "output_type": "error",
     "traceback": [
      "\u001b[0;31m---------------------------------------------------------------------------\u001b[0m",
      "\u001b[0;31mFileNotFoundError\u001b[0m                         Traceback (most recent call last)",
      "\u001b[0;32m<ipython-input-19-10025a278ef5>\u001b[0m in \u001b[0;36m<module>\u001b[0;34m()\u001b[0m\n\u001b[1;32m     19\u001b[0m \u001b[0;34m\u001b[0m\u001b[0m\n\u001b[1;32m     20\u001b[0m \u001b[0;31m# Call the MAIN function\u001b[0m\u001b[0;34m\u001b[0m\u001b[0;34m\u001b[0m\u001b[0m\n\u001b[0;32m---> 21\u001b[0;31m \u001b[0mmain\u001b[0m\u001b[0;34m(\u001b[0m\u001b[0;34m)\u001b[0m \u001b[0;31m# Why? To encapsulate for later use (i.e. generalizing)\u001b[0m\u001b[0;34m\u001b[0m\u001b[0m\n\u001b[0m",
      "\u001b[0;32m<ipython-input-19-10025a278ef5>\u001b[0m in \u001b[0;36mmain\u001b[0;34m()\u001b[0m\n\u001b[1;32m      3\u001b[0m \u001b[0;34m\u001b[0m\u001b[0m\n\u001b[1;32m      4\u001b[0m     \u001b[0mprint\u001b[0m\u001b[0;34m(\u001b[0m\u001b[0;34m'Loading sequences from'\u001b[0m\u001b[0;34m,\u001b[0m \u001b[0msys\u001b[0m\u001b[0;34m.\u001b[0m\u001b[0margv\u001b[0m\u001b[0;34m[\u001b[0m\u001b[0;36m1\u001b[0m\u001b[0;34m]\u001b[0m\u001b[0;34m)\u001b[0m\u001b[0;34m\u001b[0m\u001b[0m\n\u001b[0;32m----> 5\u001b[0;31m     \u001b[0mseqs\u001b[0m        \u001b[0;34m=\u001b[0m \u001b[0mload_sequences\u001b[0m\u001b[0;34m(\u001b[0m\u001b[0msys\u001b[0m\u001b[0;34m.\u001b[0m\u001b[0margv\u001b[0m\u001b[0;34m[\u001b[0m\u001b[0;36m1\u001b[0m\u001b[0;34m]\u001b[0m\u001b[0;34m)\u001b[0m\u001b[0;34m\u001b[0m\u001b[0m\n\u001b[0m\u001b[1;32m      6\u001b[0m \u001b[0;34m\u001b[0m\u001b[0m\n\u001b[1;32m      7\u001b[0m     \u001b[0mcount\u001b[0m       \u001b[0;34m=\u001b[0m \u001b[0;36m0\u001b[0m\u001b[0;34m\u001b[0m\u001b[0m\n",
      "\u001b[0;32m<ipython-input-17-79e13b73c1f6>\u001b[0m in \u001b[0;36mload_sequences\u001b[0;34m(filename)\u001b[0m\n\u001b[1;32m      2\u001b[0m     \u001b[0mlist_of_seqs\u001b[0m \u001b[0;34m=\u001b[0m \u001b[0;34m[\u001b[0m\u001b[0;34m]\u001b[0m\u001b[0;34m\u001b[0m\u001b[0m\n\u001b[1;32m      3\u001b[0m \u001b[0;34m\u001b[0m\u001b[0m\n\u001b[0;32m----> 4\u001b[0;31m     \u001b[0mfp\u001b[0m \u001b[0;34m=\u001b[0m \u001b[0mopen\u001b[0m\u001b[0;34m(\u001b[0m\u001b[0mfilename\u001b[0m\u001b[0;34m)\u001b[0m\u001b[0;34m\u001b[0m\u001b[0m\n\u001b[0m\u001b[1;32m      5\u001b[0m     \u001b[0;32mfor\u001b[0m \u001b[0mline\u001b[0m \u001b[0;32min\u001b[0m \u001b[0mfp\u001b[0m\u001b[0;34m:\u001b[0m\u001b[0;34m\u001b[0m\u001b[0m\n\u001b[1;32m      6\u001b[0m         \u001b[0;32mif\u001b[0m \u001b[0;34m(\u001b[0m\u001b[0mcount\u001b[0m \u001b[0;34m%\u001b[0m \u001b[0;36m4\u001b[0m\u001b[0;34m)\u001b[0m \u001b[0;34m==\u001b[0m \u001b[0;36m1\u001b[0m\u001b[0;34m:\u001b[0m\u001b[0;34m\u001b[0m\u001b[0m\n",
      "\u001b[0;31mFileNotFoundError\u001b[0m: [Errno 2] No such file or directory: '-f'"
     ]
    }
   ],
   "source": [
    "# Define a MAIN function\n",
    "def main():\n",
    "\n",
    "    print('Loading sequences from', sys.argv[1])\n",
    "    seqs        = load_sequences(sys.argv[1])\n",
    "    \n",
    "    count       = 0\n",
    "    total_bases = 0\n",
    "    total_ns    = 0\n",
    "    \n",
    "    for seq in seqs:\n",
    "        n_bases, n_ns = count_Ns(seq)\n",
    "        total_bases += n_bases\n",
    "        total_ns += n_ns\n",
    "        count += 1\n",
    "\n",
    "    print(\"total sequences\", count)\n",
    "    print(\"fraction of bases that are ns:\", total_ns / total_bases)\n",
    "    \n",
    "# Call the MAIN function\n",
    "main() # Why? To encapsulate for later use (i.e. generalizing)"
   ]
  },
  {
   "cell_type": "markdown",
   "metadata": {},
   "source": [
    "## Code reusability & Modules\n",
    "\n",
    "Creating a **module** of utility functions for code reuse: `utils.py`\n",
    "\n",
    "- **Advantages: Easy to read**\n",
    "- Can make code obvious by naming functions and variables well \n",
    "- Modules are how you can create re-usable code and that you can *trust*\n",
    "- Can host modules at Python Package Index\n",
    "\n",
    "\n",
    "- modules provide namespaces for functions, variables, etc.\n",
    "   - **namespace**: grouping of functions, vars, etc.\n",
    "   - **Module-Global variable**: variables defined w/n module are global within a run-instance of a program\n",
    "   - If using global, then better to explicilty declare that global variable\n",
    "   - M\n"
   ]
  },
  {
   "cell_type": "code",
   "execution_count": 25,
   "metadata": {
    "collapsed": true
   },
   "outputs": [
    {
     "ename": "AttributeError",
     "evalue": "module 'jfaUtils' has no attribute 'load_sequences'",
     "output_type": "error",
     "traceback": [
      "\u001b[0;31m---------------------------------------------------------------------------\u001b[0m",
      "\u001b[0;31mAttributeError\u001b[0m                            Traceback (most recent call last)",
      "\u001b[0;32m<ipython-input-25-4c9c94bc4242>\u001b[0m in \u001b[0;36m<module>\u001b[0;34m()\u001b[0m\n\u001b[1;32m      2\u001b[0m \u001b[0;32mimport\u001b[0m \u001b[0mjfaUtils\u001b[0m \u001b[0;31m# Our own module\u001b[0m\u001b[0;34m\u001b[0m\u001b[0m\n\u001b[1;32m      3\u001b[0m \u001b[0;34m\u001b[0m\u001b[0m\n\u001b[0;32m----> 4\u001b[0;31m \u001b[0mseqs\u001b[0m \u001b[0;34m=\u001b[0m \u001b[0mjfaUtils\u001b[0m\u001b[0;34m.\u001b[0m\u001b[0mload_sequences\u001b[0m\u001b[0;34m(\u001b[0m\u001b[0;34m'ecoli_ref-100k.fq'\u001b[0m\u001b[0;34m)\u001b[0m\u001b[0;34m\u001b[0m\u001b[0m\n\u001b[0m\u001b[1;32m      5\u001b[0m \u001b[0;34m\u001b[0m\u001b[0m\n\u001b[1;32m      6\u001b[0m \u001b[0mtracking\u001b[0m \u001b[0;34m=\u001b[0m \u001b[0;34m[\u001b[0m\u001b[0;34m]\u001b[0m \u001b[0;31m# initalize an empty list named 'tracking'\u001b[0m\u001b[0;34m\u001b[0m\u001b[0m\n",
      "\u001b[0;31mAttributeError\u001b[0m: module 'jfaUtils' has no attribute 'load_sequences'"
     ]
    }
   ],
   "source": [
    "import sys\n",
    "import jfaUtils # Our own module\n",
    "\n",
    "seqs = jfaUtils.load_sequences('ecoli_ref-100k.fq')\n",
    "\n",
    "tracking = [] # initalize an empty list named 'tracking'\n",
    "\n",
    "for seq in seqs:\n",
    "    n_bases, n_ns = jfaUtils.count_Ns(seq)\n",
    "    tracking.append(n_ns)\n",
    "\n",
    "print(tracking)"
   ]
  },
  {
   "cell_type": "markdown",
   "metadata": {},
   "source": [
    "# Creating a Summary of the data"
   ]
  },
  {
   "cell_type": "code",
   "execution_count": 26,
   "metadata": {
    "collapsed": false
   },
   "outputs": [
    {
     "ename": "AttributeError",
     "evalue": "module 'jfaUtils' has no attribute 'load_sequences'",
     "output_type": "error",
     "traceback": [
      "\u001b[0;31m---------------------------------------------------------------------------\u001b[0m",
      "\u001b[0;31mAttributeError\u001b[0m                            Traceback (most recent call last)",
      "\u001b[0;32m<ipython-input-26-0e1f6df634b5>\u001b[0m in \u001b[0;36m<module>\u001b[0;34m()\u001b[0m\n\u001b[1;32m      2\u001b[0m \u001b[0;32mimport\u001b[0m \u001b[0mjfaUtils\u001b[0m\u001b[0;34m\u001b[0m\u001b[0m\n\u001b[1;32m      3\u001b[0m \u001b[0;34m\u001b[0m\u001b[0m\n\u001b[0;32m----> 4\u001b[0;31m \u001b[0mseqs\u001b[0m \u001b[0;34m=\u001b[0m \u001b[0mjfaUtils\u001b[0m\u001b[0;34m.\u001b[0m\u001b[0mload_sequences\u001b[0m\u001b[0;34m(\u001b[0m\u001b[0msys\u001b[0m\u001b[0;34m.\u001b[0m\u001b[0margv\u001b[0m\u001b[0;34m[\u001b[0m\u001b[0;36m1\u001b[0m\u001b[0;34m]\u001b[0m\u001b[0;34m)\u001b[0m\u001b[0;34m\u001b[0m\u001b[0m\n\u001b[0m\u001b[1;32m      5\u001b[0m \u001b[0;34m\u001b[0m\u001b[0m\n\u001b[1;32m      6\u001b[0m \u001b[0mtracking\u001b[0m \u001b[0;34m=\u001b[0m \u001b[0;34m[\u001b[0m\u001b[0;34m]\u001b[0m\u001b[0;34m\u001b[0m\u001b[0m\n",
      "\u001b[0;31mAttributeError\u001b[0m: module 'jfaUtils' has no attribute 'load_sequences'"
     ]
    }
   ],
   "source": [
    "import sys\n",
    "import jfaUtils\n",
    "\n",
    "seqs = jfaUtils.load_sequences(sys.argv[1])\n",
    "\n",
    "tracking = []\n",
    "for seq in seqs:\n",
    "    n_bases, n_ns = jfaUtils.count_Ns(seq)\n",
    "    tracking.append(n_ns)\n",
    "\n",
    "\n",
    "# Summary vars: initialize     \n",
    "num_with_zero  = 0\n",
    "num_with_one   = 0\n",
    "num_with_more  = 0\n",
    "\n",
    "# Summary vars: accumulate\n",
    "for count in tracking:\n",
    "    if count == 0:\n",
    "        num_with_zero += 1\n",
    "    elif count == 1:\n",
    "        num_with_one  += 1\n",
    "    else:\n",
    "        num_with_more += 1\n",
    "\n",
    "# Summary vars: print\n",
    "print(num_with_zero, num_with_one, num_with_more)\n",
    "print(sum(tracking))"
   ]
  },
  {
   "cell_type": "markdown",
   "metadata": {},
   "source": [
    "# Using `main` function\n",
    "\n",
    "\n",
    "```\n",
    "def main():\n",
    "    ...\n",
    "    ...\n",
    "\n",
    "if __name__ == '__main__':\n",
    "    main()\n",
    "```\n",
    "\n",
    "### Reasons for using a `main()` function\n",
    "This prevents execution of the `main()` function, except when this script is being run on the command line\n",
    "\n",
    "Example: `foo.py`"
   ]
  },
  {
   "cell_type": "code",
   "execution_count": 27,
   "metadata": {
    "collapsed": false
   },
   "outputs": [
    {
     "name": "stdout",
     "output_type": "stream",
     "text": [
      "executing on import\n",
      "executing in a script\n"
     ]
    }
   ],
   "source": [
    "# foo.py\n",
    "\n",
    "print('executing on import')\n",
    "\n",
    "def f():\n",
    "    print('executing in a function')\n",
    "    \n",
    "if(__name__ == '__main__'):\n",
    "    print('executing in a script')\n"
   ]
  },
  {
   "cell_type": "markdown",
   "metadata": {},
   "source": [
    "## Handling input variables: Arg Parse module\n",
    "\n",
    "**`sys.argv[1]`**\n",
    "\n",
    "```\n",
    "> python n-dist.py`\n",
    "> python n-dist.py 'ecoli_ref-100k.fq'\n",
    "```\n",
    "\n",
    "\n",
    "- Can add configurability to function\n",
    " - example: Add plot ability\n",
    " \n",
    "- What tells `argparse` the difference between option & req'd arg? Is it the use of dash (`-` or `--`)?\n",
    " - `nargs` parameter for `add_argument` function\n",
    "  - `nargs='?'`: Enforces either 0 or 1 arguments\n",
    "  - `nargs='+'`: Adds ability to add in multiple input arguments\n",
    "\n",
    "\n",
    "Documentation:\n",
    "- Google: 'docs python argparse'"
   ]
  },
  {
   "cell_type": "markdown",
   "metadata": {},
   "source": [
    "## Sh-banging: `#! /usr/bin/env python3`\n",
    "\n",
    "`#! /usr/bin/env python3`\n",
    "- `#!` called a \"sh-bang\"\n",
    "- Ensures the function runs in python version 3\n",
    "- At top of a file made executable with: chmod +x *scriptname* means that you can specify the version of Python to run a script with"
   ]
  },
  {
   "cell_type": "code",
   "execution_count": 28,
   "metadata": {
    "collapsed": false
   },
   "outputs": [
    {
     "ename": "ImportError",
     "evalue": "No module named 'utils'",
     "output_type": "error",
     "traceback": [
      "\u001b[0;31m---------------------------------------------------------------------------\u001b[0m",
      "\u001b[0;31mImportError\u001b[0m                               Traceback (most recent call last)",
      "\u001b[0;32m<ipython-input-28-13566bf6b9e0>\u001b[0m in \u001b[0;36m<module>\u001b[0;34m()\u001b[0m\n\u001b[1;32m      1\u001b[0m \u001b[0;32mimport\u001b[0m \u001b[0msys\u001b[0m\u001b[0;34m\u001b[0m\u001b[0m\n\u001b[0;32m----> 2\u001b[0;31m \u001b[0;32mimport\u001b[0m \u001b[0mutils\u001b[0m\u001b[0;34m\u001b[0m\u001b[0m\n\u001b[0m\u001b[1;32m      3\u001b[0m \u001b[0;32mimport\u001b[0m \u001b[0margparse\u001b[0m \u001b[0;31m## ARGPARSE\u001b[0m\u001b[0;34m\u001b[0m\u001b[0m\n\u001b[1;32m      4\u001b[0m \u001b[0;34m\u001b[0m\u001b[0m\n\u001b[1;32m      5\u001b[0m \u001b[0;32mdef\u001b[0m \u001b[0mmain\u001b[0m\u001b[0;34m(\u001b[0m\u001b[0;34m)\u001b[0m\u001b[0;34m:\u001b[0m\u001b[0;34m\u001b[0m\u001b[0m\n",
      "\u001b[0;31mImportError\u001b[0m: No module named 'utils'"
     ]
    }
   ],
   "source": [
    "import sys\n",
    "import utils\n",
    "import argparse ## ARGPARSE\n",
    "\n",
    "def main():\n",
    "    parser = argparse.ArgumentParser()   # Create an arg parser\n",
    "    \n",
    "    # Configure: Specifying REQUIRED arguments\n",
    "    parser.add_argument('sequencefile')  # takes in 1 required input\n",
    "    \n",
    "    # Configure: Specifying OPTIONAL arguments\n",
    "    parser.add_argument('-v', '--version', help='print versions')\n",
    "    parser.add_argument('sequencefile',\n",
    "                        help='a FASTQ file full of sequences')\n",
    "    \n",
    "    # Parse arguments\n",
    "    args = parser.parse_args()\n",
    "    \n",
    "    print('Using version', utils.version, 'of utils.py')\n",
    "\n",
    "    # access input args via ARGS.SEQUENCEFILE\n",
    "    seqs = utils.load_sequences(args.sequencefile)  \n",
    "\n",
    "    tracking = []\n",
    "    for seq in seqs:\n",
    "        n_bases, n_ns = utils.count_Ns(seq)\n",
    "        tracking.append(n_ns)\n",
    "\n",
    "    num_with_zero = 0\n",
    "    num_with_one = 0\n",
    "    num_with_more = 0\n",
    "\n",
    "    for count in tracking:\n",
    "        if count == 0:\n",
    "            num_with_zero += 1\n",
    "        elif count == 1:\n",
    "            num_with_one += 1\n",
    "        else:\n",
    "            num_with_more += 1\n",
    "\n",
    "    print(num_with_zero, num_with_one, num_with_more)\n",
    "    print(sum(tracking))\n",
    "\n",
    "    \n",
    "if __name__ == '__main__':\n",
    "    main()\n"
   ]
  },
  {
   "cell_type": "code",
   "execution_count": 33,
   "metadata": {
    "collapsed": false
   },
   "outputs": [
    {
     "ename": "AttributeError",
     "evalue": "'builtin_function_or_method' object has no attribute 'count'",
     "output_type": "error",
     "traceback": [
      "\u001b[0;31m---------------------------------------------------------------------------\u001b[0m",
      "\u001b[0;31mAttributeError\u001b[0m                            Traceback (most recent call last)",
      "\u001b[0;32m<ipython-input-33-ce738e63fde3>\u001b[0m in \u001b[0;36m<module>\u001b[0;34m()\u001b[0m\n\u001b[0;32m----> 1\u001b[0;31m \u001b[0;34m'ABcDSF'\u001b[0m\u001b[0;34m.\u001b[0m\u001b[0mupper\u001b[0m\u001b[0;34m.\u001b[0m\u001b[0mcount\u001b[0m\u001b[0;34m(\u001b[0m\u001b[0;34m'N'\u001b[0m\u001b[0;34m)\u001b[0m\u001b[0;34m\u001b[0m\u001b[0m\n\u001b[0m",
      "\u001b[0;31mAttributeError\u001b[0m: 'builtin_function_or_method' object has no attribute 'count'"
     ]
    }
   ],
   "source": [
    "'ABcDSF'.upper.count('N')"
   ]
  },
  {
   "cell_type": "code",
   "execution_count": null,
   "metadata": {
    "collapsed": true
   },
   "outputs": [],
   "source": []
  }
 ],
 "metadata": {
  "kernelspec": {
   "display_name": "Python 3",
   "language": "python",
   "name": "python3"
  },
  "language_info": {
   "codemirror_mode": {
    "name": "ipython",
    "version": 3
   },
   "file_extension": ".py",
   "mimetype": "text/x-python",
   "name": "python",
   "nbconvert_exporter": "python",
   "pygments_lexer": "ipython3",
   "version": "3.5.0"
  }
 },
 "nbformat": 4,
 "nbformat_minor": 0
}
